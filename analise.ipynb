{
 "cells": [
  {
   "cell_type": "markdown",
   "id": "51129508",
   "metadata": {},
   "source": [
    "# Trabalho II - Análise de Dados: Sono e Estilo de Vida\n",
    "\n",
    "## 1. Introdução\n",
    "\n",
    "Este trabalho tem como objetivo aplicar e comparar os principais algoritmos de classificação e regressão, conforme estudado em aula, utilizando uma base de dados real para analisar a relação entre estilo de vida, saúde e qualidade do sono.\n",
    "\n",
    "A base de dados escolhida foi a **Base 02 - Sono e Estilo de Vida**, um conjunto de dados fictício que contém informações sobre hábitos de sono, saúde e estilo de vida de 400 indivíduos.\n",
    "\n",
    "## 2. Definição dos Problemas e Objetivos\n",
    "\n",
    "O objetivo deste projeto é desenvolver e avaliar modelos de Machine Learning para duas tarefas distintas: uma de classificação e uma de regressão.\n",
    "\n",
    "### 2.1. Problema de Classificação\n",
    "\n",
    "O modelo de classificação terá como objetivo prever o **distúrbio do sono (`Sleep Disorder`)** de um indivíduo. Trata-se de um problema de classificação multiclasse, com as seguintes categorias:\n",
    "*   Nenhum\n",
    "*   Insônia\n",
    "*   Apneia do Sono (Sleep Apnea)\n",
    "\n",
    "### 2.2. Problema de Regressão\n",
    "\n",
    "O modelo de regressão buscará prever a **qualidade do sono (`Quality of Sleep`)**. Como esta é uma variável numérica (em uma escala de 1 a 10), ela se caracteriza como um problema de regressão."
   ]
  },
  {
   "cell_type": "code",
   "execution_count": null,
   "id": "cd3297b4",
   "metadata": {},
   "outputs": [],
   "source": [
    "# Importação das bibliotecas essenciais\n",
    "import pandas as pd\n",
    "import numpy as np\n",
    "import matplotlib.pyplot as plt\n",
    "import seaborn as sns\n",
    "\n",
    "# Ferramentas de pré-processamento do Scikit-Learn\n",
    "from sklearn.model_selection import train_test_split\n",
    "from sklearn.preprocessing import StandardScaler, LabelEncoder\n",
    "\n",
    "# Métricas para avaliação dos modelos\n",
    "from sklearn.metrics import (\n",
    "    accuracy_score,\n",
    "    precision_score,\n",
    "    recall_score,\n",
    "    f1_score,\n",
    "    confusion_matrix,\n",
    "    mean_squared_error\n",
    ")\n",
    "\n",
    "# Algoritmos de Classificação\n",
    "from sklearn.linear_model import LogisticRegression\n",
    "from sklearn.tree import DecisionTreeClassifier\n",
    "from sklearn.ensemble import RandomForestClassifier\n",
    "from sklearn.svm import SVC\n",
    "from sklearn.neighbors import KNeighborsClassifier\n",
    "\n",
    "# Algoritmos de Regressão\n",
    "from sklearn.linear_model import LinearRegression\n",
    "from sklearn.tree import DecisionTreeRegressor\n",
    "from sklearn.ensemble import RandomForestRegressor\n",
    "from sklearn.svm import SVR"
   ]
  },
  {
   "cell_type": "code",
   "execution_count": 9,
   "id": "fed067ff",
   "metadata": {},
   "outputs": [
    {
     "data": {
      "text/html": [
       "<div>\n",
       "<style scoped>\n",
       "    .dataframe tbody tr th:only-of-type {\n",
       "        vertical-align: middle;\n",
       "    }\n",
       "\n",
       "    .dataframe tbody tr th {\n",
       "        vertical-align: top;\n",
       "    }\n",
       "\n",
       "    .dataframe thead th {\n",
       "        text-align: right;\n",
       "    }\n",
       "</style>\n",
       "<table border=\"1\" class=\"dataframe\">\n",
       "  <thead>\n",
       "    <tr style=\"text-align: right;\">\n",
       "      <th></th>\n",
       "      <th>Person ID</th>\n",
       "      <th>Gender</th>\n",
       "      <th>Age</th>\n",
       "      <th>Occupation</th>\n",
       "      <th>Sleep Duration</th>\n",
       "      <th>Quality of Sleep</th>\n",
       "      <th>Physical Activity Level</th>\n",
       "      <th>Stress Level</th>\n",
       "      <th>BMI Category</th>\n",
       "      <th>Blood Pressure</th>\n",
       "      <th>Heart Rate</th>\n",
       "      <th>Daily Steps</th>\n",
       "      <th>Sleep Disorder</th>\n",
       "    </tr>\n",
       "  </thead>\n",
       "  <tbody>\n",
       "    <tr>\n",
       "      <th>0</th>\n",
       "      <td>1</td>\n",
       "      <td>Male</td>\n",
       "      <td>27</td>\n",
       "      <td>Software Engineer</td>\n",
       "      <td>6.1</td>\n",
       "      <td>6</td>\n",
       "      <td>42</td>\n",
       "      <td>6</td>\n",
       "      <td>Overweight</td>\n",
       "      <td>126/83</td>\n",
       "      <td>77</td>\n",
       "      <td>4200</td>\n",
       "      <td>NaN</td>\n",
       "    </tr>\n",
       "    <tr>\n",
       "      <th>1</th>\n",
       "      <td>2</td>\n",
       "      <td>Male</td>\n",
       "      <td>28</td>\n",
       "      <td>Doctor</td>\n",
       "      <td>6.2</td>\n",
       "      <td>6</td>\n",
       "      <td>60</td>\n",
       "      <td>8</td>\n",
       "      <td>Normal</td>\n",
       "      <td>125/80</td>\n",
       "      <td>75</td>\n",
       "      <td>10000</td>\n",
       "      <td>NaN</td>\n",
       "    </tr>\n",
       "    <tr>\n",
       "      <th>2</th>\n",
       "      <td>3</td>\n",
       "      <td>Male</td>\n",
       "      <td>28</td>\n",
       "      <td>Doctor</td>\n",
       "      <td>6.2</td>\n",
       "      <td>6</td>\n",
       "      <td>60</td>\n",
       "      <td>8</td>\n",
       "      <td>Normal</td>\n",
       "      <td>125/80</td>\n",
       "      <td>75</td>\n",
       "      <td>10000</td>\n",
       "      <td>NaN</td>\n",
       "    </tr>\n",
       "    <tr>\n",
       "      <th>3</th>\n",
       "      <td>4</td>\n",
       "      <td>Male</td>\n",
       "      <td>28</td>\n",
       "      <td>Sales Representative</td>\n",
       "      <td>5.9</td>\n",
       "      <td>4</td>\n",
       "      <td>30</td>\n",
       "      <td>8</td>\n",
       "      <td>Obese</td>\n",
       "      <td>140/90</td>\n",
       "      <td>85</td>\n",
       "      <td>3000</td>\n",
       "      <td>Sleep Apnea</td>\n",
       "    </tr>\n",
       "    <tr>\n",
       "      <th>4</th>\n",
       "      <td>5</td>\n",
       "      <td>Male</td>\n",
       "      <td>28</td>\n",
       "      <td>Sales Representative</td>\n",
       "      <td>5.9</td>\n",
       "      <td>4</td>\n",
       "      <td>30</td>\n",
       "      <td>8</td>\n",
       "      <td>Obese</td>\n",
       "      <td>140/90</td>\n",
       "      <td>85</td>\n",
       "      <td>3000</td>\n",
       "      <td>Sleep Apnea</td>\n",
       "    </tr>\n",
       "  </tbody>\n",
       "</table>\n",
       "</div>"
      ],
      "text/plain": [
       "   Person ID Gender  Age            Occupation  Sleep Duration  \\\n",
       "0          1   Male   27     Software Engineer             6.1   \n",
       "1          2   Male   28                Doctor             6.2   \n",
       "2          3   Male   28                Doctor             6.2   \n",
       "3          4   Male   28  Sales Representative             5.9   \n",
       "4          5   Male   28  Sales Representative             5.9   \n",
       "\n",
       "   Quality of Sleep  Physical Activity Level  Stress Level BMI Category  \\\n",
       "0                 6                       42             6   Overweight   \n",
       "1                 6                       60             8       Normal   \n",
       "2                 6                       60             8       Normal   \n",
       "3                 4                       30             8        Obese   \n",
       "4                 4                       30             8        Obese   \n",
       "\n",
       "  Blood Pressure  Heart Rate  Daily Steps Sleep Disorder  \n",
       "0         126/83          77         4200            NaN  \n",
       "1         125/80          75        10000            NaN  \n",
       "2         125/80          75        10000            NaN  \n",
       "3         140/90          85         3000    Sleep Apnea  \n",
       "4         140/90          85         3000    Sleep Apnea  "
      ]
     },
     "execution_count": 9,
     "metadata": {},
     "output_type": "execute_result"
    }
   ],
   "source": [
    "# Carregando o dataset\n",
    "df = pd.read_csv('02_sono_estilo_vida.csv')\n",
    "\n",
    "# Exibindo as primeiras 5 linhas do DataFrame\n",
    "df.head()\n"
   ]
  },
  {
   "cell_type": "code",
   "execution_count": 10,
   "id": "1e51d773",
   "metadata": {},
   "outputs": [
    {
     "name": "stdout",
     "output_type": "stream",
     "text": [
      "<class 'pandas.core.frame.DataFrame'>\n",
      "RangeIndex: 374 entries, 0 to 373\n",
      "Data columns (total 13 columns):\n",
      " #   Column                   Non-Null Count  Dtype  \n",
      "---  ------                   --------------  -----  \n",
      " 0   Person ID                374 non-null    int64  \n",
      " 1   Gender                   374 non-null    object \n",
      " 2   Age                      374 non-null    int64  \n",
      " 3   Occupation               374 non-null    object \n",
      " 4   Sleep Duration           374 non-null    float64\n",
      " 5   Quality of Sleep         374 non-null    int64  \n",
      " 6   Physical Activity Level  374 non-null    int64  \n",
      " 7   Stress Level             374 non-null    int64  \n",
      " 8   BMI Category             374 non-null    object \n",
      " 9   Blood Pressure           374 non-null    object \n",
      " 10  Heart Rate               374 non-null    int64  \n",
      " 11  Daily Steps              374 non-null    int64  \n",
      " 12  Sleep Disorder           155 non-null    object \n",
      "dtypes: float64(1), int64(7), object(5)\n",
      "memory usage: 38.1+ KB\n"
     ]
    }
   ],
   "source": [
    "# Verificando informações gerais do DataFrame\n",
    "df.info()\n"
   ]
  },
  {
   "cell_type": "code",
   "execution_count": 11,
   "id": "6f9bdb48",
   "metadata": {},
   "outputs": [
    {
     "data": {
      "text/plain": [
       "Person ID                   0.00000\n",
       "Gender                      0.00000\n",
       "Age                         0.00000\n",
       "Occupation                  0.00000\n",
       "Sleep Duration              0.00000\n",
       "Quality of Sleep            0.00000\n",
       "Physical Activity Level     0.00000\n",
       "Stress Level                0.00000\n",
       "BMI Category                0.00000\n",
       "Blood Pressure              0.00000\n",
       "Heart Rate                  0.00000\n",
       "Daily Steps                 0.00000\n",
       "Sleep Disorder             58.55615\n",
       "dtype: float64"
      ]
     },
     "execution_count": 11,
     "metadata": {},
     "output_type": "execute_result"
    }
   ],
   "source": [
    "# Verificando a porcentagem de valores ausentes em cada coluna\n",
    "(df.isnull().sum() / len(df)) * 100\n"
   ]
  },
  {
   "cell_type": "code",
   "execution_count": 12,
   "id": "478183dc",
   "metadata": {},
   "outputs": [
    {
     "data": {
      "text/html": [
       "<div>\n",
       "<style scoped>\n",
       "    .dataframe tbody tr th:only-of-type {\n",
       "        vertical-align: middle;\n",
       "    }\n",
       "\n",
       "    .dataframe tbody tr th {\n",
       "        vertical-align: top;\n",
       "    }\n",
       "\n",
       "    .dataframe thead th {\n",
       "        text-align: right;\n",
       "    }\n",
       "</style>\n",
       "<table border=\"1\" class=\"dataframe\">\n",
       "  <thead>\n",
       "    <tr style=\"text-align: right;\">\n",
       "      <th></th>\n",
       "      <th>Person ID</th>\n",
       "      <th>Age</th>\n",
       "      <th>Sleep Duration</th>\n",
       "      <th>Quality of Sleep</th>\n",
       "      <th>Physical Activity Level</th>\n",
       "      <th>Stress Level</th>\n",
       "      <th>Heart Rate</th>\n",
       "      <th>Daily Steps</th>\n",
       "    </tr>\n",
       "  </thead>\n",
       "  <tbody>\n",
       "    <tr>\n",
       "      <th>count</th>\n",
       "      <td>374.000000</td>\n",
       "      <td>374.000000</td>\n",
       "      <td>374.000000</td>\n",
       "      <td>374.000000</td>\n",
       "      <td>374.000000</td>\n",
       "      <td>374.000000</td>\n",
       "      <td>374.000000</td>\n",
       "      <td>374.000000</td>\n",
       "    </tr>\n",
       "    <tr>\n",
       "      <th>mean</th>\n",
       "      <td>187.500000</td>\n",
       "      <td>42.184492</td>\n",
       "      <td>7.132086</td>\n",
       "      <td>7.312834</td>\n",
       "      <td>59.171123</td>\n",
       "      <td>5.385027</td>\n",
       "      <td>70.165775</td>\n",
       "      <td>6816.844920</td>\n",
       "    </tr>\n",
       "    <tr>\n",
       "      <th>std</th>\n",
       "      <td>108.108742</td>\n",
       "      <td>8.673133</td>\n",
       "      <td>0.795657</td>\n",
       "      <td>1.196956</td>\n",
       "      <td>20.830804</td>\n",
       "      <td>1.774526</td>\n",
       "      <td>4.135676</td>\n",
       "      <td>1617.915679</td>\n",
       "    </tr>\n",
       "    <tr>\n",
       "      <th>min</th>\n",
       "      <td>1.000000</td>\n",
       "      <td>27.000000</td>\n",
       "      <td>5.800000</td>\n",
       "      <td>4.000000</td>\n",
       "      <td>30.000000</td>\n",
       "      <td>3.000000</td>\n",
       "      <td>65.000000</td>\n",
       "      <td>3000.000000</td>\n",
       "    </tr>\n",
       "    <tr>\n",
       "      <th>25%</th>\n",
       "      <td>94.250000</td>\n",
       "      <td>35.250000</td>\n",
       "      <td>6.400000</td>\n",
       "      <td>6.000000</td>\n",
       "      <td>45.000000</td>\n",
       "      <td>4.000000</td>\n",
       "      <td>68.000000</td>\n",
       "      <td>5600.000000</td>\n",
       "    </tr>\n",
       "    <tr>\n",
       "      <th>50%</th>\n",
       "      <td>187.500000</td>\n",
       "      <td>43.000000</td>\n",
       "      <td>7.200000</td>\n",
       "      <td>7.000000</td>\n",
       "      <td>60.000000</td>\n",
       "      <td>5.000000</td>\n",
       "      <td>70.000000</td>\n",
       "      <td>7000.000000</td>\n",
       "    </tr>\n",
       "    <tr>\n",
       "      <th>75%</th>\n",
       "      <td>280.750000</td>\n",
       "      <td>50.000000</td>\n",
       "      <td>7.800000</td>\n",
       "      <td>8.000000</td>\n",
       "      <td>75.000000</td>\n",
       "      <td>7.000000</td>\n",
       "      <td>72.000000</td>\n",
       "      <td>8000.000000</td>\n",
       "    </tr>\n",
       "    <tr>\n",
       "      <th>max</th>\n",
       "      <td>374.000000</td>\n",
       "      <td>59.000000</td>\n",
       "      <td>8.500000</td>\n",
       "      <td>9.000000</td>\n",
       "      <td>90.000000</td>\n",
       "      <td>8.000000</td>\n",
       "      <td>86.000000</td>\n",
       "      <td>10000.000000</td>\n",
       "    </tr>\n",
       "  </tbody>\n",
       "</table>\n",
       "</div>"
      ],
      "text/plain": [
       "        Person ID         Age  Sleep Duration  Quality of Sleep  \\\n",
       "count  374.000000  374.000000      374.000000        374.000000   \n",
       "mean   187.500000   42.184492        7.132086          7.312834   \n",
       "std    108.108742    8.673133        0.795657          1.196956   \n",
       "min      1.000000   27.000000        5.800000          4.000000   \n",
       "25%     94.250000   35.250000        6.400000          6.000000   \n",
       "50%    187.500000   43.000000        7.200000          7.000000   \n",
       "75%    280.750000   50.000000        7.800000          8.000000   \n",
       "max    374.000000   59.000000        8.500000          9.000000   \n",
       "\n",
       "       Physical Activity Level  Stress Level  Heart Rate   Daily Steps  \n",
       "count               374.000000    374.000000  374.000000    374.000000  \n",
       "mean                 59.171123      5.385027   70.165775   6816.844920  \n",
       "std                  20.830804      1.774526    4.135676   1617.915679  \n",
       "min                  30.000000      3.000000   65.000000   3000.000000  \n",
       "25%                  45.000000      4.000000   68.000000   5600.000000  \n",
       "50%                  60.000000      5.000000   70.000000   7000.000000  \n",
       "75%                  75.000000      7.000000   72.000000   8000.000000  \n",
       "max                  90.000000      8.000000   86.000000  10000.000000  "
      ]
     },
     "execution_count": 12,
     "metadata": {},
     "output_type": "execute_result"
    }
   ],
   "source": [
    "# Obtendo estatísticas descritivas das colunas numéricas\n",
    "df.describe()\n"
   ]
  },
  {
   "cell_type": "markdown",
   "id": "c1a2961d",
   "metadata": {},
   "source": [
    "## 3. Limpeza e Pré-processamento dos Dados\n",
    "\n",
    "### 3.1: Tratando a Coluna Alvo da Classificação"
   ]
  },
  {
   "cell_type": "markdown",
   "id": "f44a19eb",
   "metadata": {},
   "source": [
    "**Problema:** Muitos valores nulos. <br>\n",
    "**Solução e Justificativa:** Considerando o contexto, a ausência de valor (NaN) na coluna \"Distúrbio do Sono\" provavelmente indica que a pessoa não possui nenhum distúrbio do sono diagnosticado. Por isso, optamos por preencher esses valores ausentes com a categoria \"None\" (Nenhum)"
   ]
  },
  {
   "cell_type": "code",
   "execution_count": 16,
   "id": "0eb14bef",
   "metadata": {},
   "outputs": [
    {
     "name": "stdout",
     "output_type": "stream",
     "text": [
      "Contagem de valores em 'Sleep Disorder' após o tratamento:\n",
      "Sleep Disorder\n",
      "None           219\n",
      "Sleep Apnea     78\n",
      "Insomnia        77\n",
      "Name: count, dtype: int64\n"
     ]
    }
   ],
   "source": [
    "# Preenchendo os valores nulos na coluna 'Sleep Disorder'\n",
    "df['Sleep Disorder'] = df['Sleep Disorder'].fillna('None')\n",
    "\n",
    "# Verificando a contagem de valores após o preenchimento\n",
    "print(\"Contagem de valores em 'Sleep Disorder' após o tratamento:\")\n",
    "print(df['Sleep Disorder'].value_counts())\n"
   ]
  },
  {
   "cell_type": "markdown",
   "id": "b17b0d0a",
   "metadata": {},
   "source": [
    "### 3.2: Correção de Atributos\n",
    "**Problema:** Coluna em formato de texto. <br>\n",
    "**Solução e Justificativa:** Vamos dividir a coluna \"sistólica/diastólica\" em duas novas colunas numéricas: Systolic_BP e Diastolic_BP. Isso transforma a informação em algo útil para os modelos."
   ]
  },
  {
   "cell_type": "code",
   "execution_count": 17,
   "id": "9d2961e4",
   "metadata": {},
   "outputs": [
    {
     "name": "stdout",
     "output_type": "stream",
     "text": [
      "\n",
      "Primeiras linhas do DataFrame com as novas colunas de pressão arterial:\n",
      "  Blood Pressure  Systolic_BP  Diastolic_BP\n",
      "0         126/83          126            83\n",
      "1         125/80          125            80\n",
      "2         125/80          125            80\n",
      "3         140/90          140            90\n",
      "4         140/90          140            90\n"
     ]
    }
   ],
   "source": [
    "# Dividindo a coluna 'Blood Pressure' em duas colunas numéricas\n",
    "df[['Systolic_BP', 'Diastolic_BP']] = df['Blood Pressure'].str.split('/', expand=True).astype(int)\n",
    "\n",
    "# Verificando as novas colunas\n",
    "print(\"\\nPrimeiras linhas do DataFrame com as novas colunas de pressão arterial:\")\n",
    "print(df[['Blood Pressure', 'Systolic_BP', 'Diastolic_BP']].head())"
   ]
  },
  {
   "cell_type": "markdown",
   "id": "60b9df1c",
   "metadata": {},
   "source": [
    "**Problema:** Precisamos definir formalmente o que será X (dados de entrada) e y (o que queremos prever) para cada tarefa.<br>\n",
    "**Solução e Justificativa:** Vamos criar os DataFrames de features, removendo as colunas que não são preditivas (Person ID, a Blood Pressure original) e a própria variável alvo de cada conjunto."
   ]
  },
  {
   "cell_type": "code",
   "execution_count": 19,
   "id": "97a30f83",
   "metadata": {},
   "outputs": [
    {
     "name": "stdout",
     "output_type": "stream",
     "text": [
      "Shape de X para regressão: (374, 12)\n",
      "Shape de y para regressão: (374,)\n",
      "--------------------------------------------------\n",
      "Shape de X para classificação: (374, 12)\n",
      "Shape de y para classificação: (374,)\n"
     ]
    }
   ],
   "source": [
    "# === Preparação para a Tarefa de REGRESSÃO ===\n",
    "X_reg = df.drop(['Person ID', 'Blood Pressure', 'Quality of Sleep'], axis=1)\n",
    "y_reg = df['Quality of Sleep']\n",
    "\n",
    "# === Preparação para a Tarefa de CLASSIFICAÇÃO ===\n",
    "# Prever 'Sleep Disorder'\n",
    "X_class = df.drop(['Person ID', 'Blood Pressure', 'Sleep Disorder'], axis=1)\n",
    "y_class = df['Sleep Disorder']\n",
    "\n",
    "\n",
    "# Exibindo as dimensões dos dataframes criados para verificação\n",
    "print(f\"Shape de X para regressão: {X_reg.shape}\")\n",
    "print(f\"Shape de y para regressão: {y_reg.shape}\")\n",
    "print(\"-\" * 50)\n",
    "print(f\"Shape de X para classificação: {X_class.shape}\")\n",
    "print(f\"Shape de y para classificação: {y_class.shape}\")"
   ]
  },
  {
   "cell_type": "markdown",
   "id": "85768135",
   "metadata": {},
   "source": [
    "## 4. Utilização do One-Hot Encoding (Técnica Não Abordada em Aula Pratica)\n",
    "\n",
    "Durante o desenvolvimento deste trabalho, optei por aplicar **One-Hot Encoding** para tratamento de variáveis categóricas em texto, mesmo que esta abordagem não tenha sido demonstrada explicitamente durante as aulas práticas. Entretando foi uma questão abordada nas aulas teoricas.\n",
    "\n",
    "#### Justificativa\n",
    "A maioria dos algoritmos de *Machine Learning* (Regressão Linear, Regressão Logística, SVM, entre outros) opera exclusivamente com operações matemáticas (somas, produtos escalares, cálculo de distâncias). Esses modelos **não conseguem interpretar diretamente variáveis categóricas em formato textual**, como \"Masculino/Feminino\" ou \"Engenheiro de Software\".  "
   ]
  },
  {
   "cell_type": "code",
   "execution_count": 22,
   "id": "5a395c47",
   "metadata": {},
   "outputs": [
    {
     "name": "stdout",
     "output_type": "stream",
     "text": [
      "Colunas originais: ['Person ID', 'Gender', 'Age', 'Occupation', 'Sleep Duration', 'Quality of Sleep', 'Physical Activity Level', 'Stress Level', 'BMI Category', 'Blood Pressure', 'Heart Rate', 'Daily Steps', 'Sleep Disorder', 'Systolic_BP', 'Diastolic_BP']\n",
      "\n",
      "Colunas após a codificação:\n",
      "['Age', 'Sleep Duration', 'Quality of Sleep', 'Physical Activity Level', 'Stress Level', 'Heart Rate', 'Daily Steps', 'Systolic_BP', 'Diastolic_BP', 'Gender_Male', 'Occupation_Doctor', 'Occupation_Engineer', 'Occupation_Lawyer', 'Occupation_Manager', 'Occupation_Nurse', 'Occupation_Sales Representative', 'Occupation_Salesperson', 'Occupation_Scientist', 'Occupation_Software Engineer', 'Occupation_Teacher', 'BMI Category_Normal Weight', 'BMI Category_Obese', 'BMI Category_Overweight', 'Sleep Disorder Encoded']\n",
      "\n",
      "Visualização dos 5 primeiros registros dos dados processados:\n"
     ]
    },
    {
     "data": {
      "text/html": [
       "<div>\n",
       "<style scoped>\n",
       "    .dataframe tbody tr th:only-of-type {\n",
       "        vertical-align: middle;\n",
       "    }\n",
       "\n",
       "    .dataframe tbody tr th {\n",
       "        vertical-align: top;\n",
       "    }\n",
       "\n",
       "    .dataframe thead th {\n",
       "        text-align: right;\n",
       "    }\n",
       "</style>\n",
       "<table border=\"1\" class=\"dataframe\">\n",
       "  <thead>\n",
       "    <tr style=\"text-align: right;\">\n",
       "      <th></th>\n",
       "      <th>Age</th>\n",
       "      <th>Sleep Duration</th>\n",
       "      <th>Quality of Sleep</th>\n",
       "      <th>Physical Activity Level</th>\n",
       "      <th>Stress Level</th>\n",
       "      <th>Heart Rate</th>\n",
       "      <th>Daily Steps</th>\n",
       "      <th>Systolic_BP</th>\n",
       "      <th>Diastolic_BP</th>\n",
       "      <th>Gender_Male</th>\n",
       "      <th>...</th>\n",
       "      <th>Occupation_Nurse</th>\n",
       "      <th>Occupation_Sales Representative</th>\n",
       "      <th>Occupation_Salesperson</th>\n",
       "      <th>Occupation_Scientist</th>\n",
       "      <th>Occupation_Software Engineer</th>\n",
       "      <th>Occupation_Teacher</th>\n",
       "      <th>BMI Category_Normal Weight</th>\n",
       "      <th>BMI Category_Obese</th>\n",
       "      <th>BMI Category_Overweight</th>\n",
       "      <th>Sleep Disorder Encoded</th>\n",
       "    </tr>\n",
       "  </thead>\n",
       "  <tbody>\n",
       "    <tr>\n",
       "      <th>0</th>\n",
       "      <td>27</td>\n",
       "      <td>6.1</td>\n",
       "      <td>6</td>\n",
       "      <td>42</td>\n",
       "      <td>6</td>\n",
       "      <td>77</td>\n",
       "      <td>4200</td>\n",
       "      <td>126</td>\n",
       "      <td>83</td>\n",
       "      <td>True</td>\n",
       "      <td>...</td>\n",
       "      <td>False</td>\n",
       "      <td>False</td>\n",
       "      <td>False</td>\n",
       "      <td>False</td>\n",
       "      <td>True</td>\n",
       "      <td>False</td>\n",
       "      <td>False</td>\n",
       "      <td>False</td>\n",
       "      <td>True</td>\n",
       "      <td>1</td>\n",
       "    </tr>\n",
       "    <tr>\n",
       "      <th>1</th>\n",
       "      <td>28</td>\n",
       "      <td>6.2</td>\n",
       "      <td>6</td>\n",
       "      <td>60</td>\n",
       "      <td>8</td>\n",
       "      <td>75</td>\n",
       "      <td>10000</td>\n",
       "      <td>125</td>\n",
       "      <td>80</td>\n",
       "      <td>True</td>\n",
       "      <td>...</td>\n",
       "      <td>False</td>\n",
       "      <td>False</td>\n",
       "      <td>False</td>\n",
       "      <td>False</td>\n",
       "      <td>False</td>\n",
       "      <td>False</td>\n",
       "      <td>False</td>\n",
       "      <td>False</td>\n",
       "      <td>False</td>\n",
       "      <td>1</td>\n",
       "    </tr>\n",
       "    <tr>\n",
       "      <th>2</th>\n",
       "      <td>28</td>\n",
       "      <td>6.2</td>\n",
       "      <td>6</td>\n",
       "      <td>60</td>\n",
       "      <td>8</td>\n",
       "      <td>75</td>\n",
       "      <td>10000</td>\n",
       "      <td>125</td>\n",
       "      <td>80</td>\n",
       "      <td>True</td>\n",
       "      <td>...</td>\n",
       "      <td>False</td>\n",
       "      <td>False</td>\n",
       "      <td>False</td>\n",
       "      <td>False</td>\n",
       "      <td>False</td>\n",
       "      <td>False</td>\n",
       "      <td>False</td>\n",
       "      <td>False</td>\n",
       "      <td>False</td>\n",
       "      <td>1</td>\n",
       "    </tr>\n",
       "    <tr>\n",
       "      <th>3</th>\n",
       "      <td>28</td>\n",
       "      <td>5.9</td>\n",
       "      <td>4</td>\n",
       "      <td>30</td>\n",
       "      <td>8</td>\n",
       "      <td>85</td>\n",
       "      <td>3000</td>\n",
       "      <td>140</td>\n",
       "      <td>90</td>\n",
       "      <td>True</td>\n",
       "      <td>...</td>\n",
       "      <td>False</td>\n",
       "      <td>True</td>\n",
       "      <td>False</td>\n",
       "      <td>False</td>\n",
       "      <td>False</td>\n",
       "      <td>False</td>\n",
       "      <td>False</td>\n",
       "      <td>True</td>\n",
       "      <td>False</td>\n",
       "      <td>2</td>\n",
       "    </tr>\n",
       "    <tr>\n",
       "      <th>4</th>\n",
       "      <td>28</td>\n",
       "      <td>5.9</td>\n",
       "      <td>4</td>\n",
       "      <td>30</td>\n",
       "      <td>8</td>\n",
       "      <td>85</td>\n",
       "      <td>3000</td>\n",
       "      <td>140</td>\n",
       "      <td>90</td>\n",
       "      <td>True</td>\n",
       "      <td>...</td>\n",
       "      <td>False</td>\n",
       "      <td>True</td>\n",
       "      <td>False</td>\n",
       "      <td>False</td>\n",
       "      <td>False</td>\n",
       "      <td>False</td>\n",
       "      <td>False</td>\n",
       "      <td>True</td>\n",
       "      <td>False</td>\n",
       "      <td>2</td>\n",
       "    </tr>\n",
       "  </tbody>\n",
       "</table>\n",
       "<p>5 rows × 24 columns</p>\n",
       "</div>"
      ],
      "text/plain": [
       "   Age  Sleep Duration  Quality of Sleep  Physical Activity Level  \\\n",
       "0   27             6.1                 6                       42   \n",
       "1   28             6.2                 6                       60   \n",
       "2   28             6.2                 6                       60   \n",
       "3   28             5.9                 4                       30   \n",
       "4   28             5.9                 4                       30   \n",
       "\n",
       "   Stress Level  Heart Rate  Daily Steps  Systolic_BP  Diastolic_BP  \\\n",
       "0             6          77         4200          126            83   \n",
       "1             8          75        10000          125            80   \n",
       "2             8          75        10000          125            80   \n",
       "3             8          85         3000          140            90   \n",
       "4             8          85         3000          140            90   \n",
       "\n",
       "   Gender_Male  ...  Occupation_Nurse  Occupation_Sales Representative  \\\n",
       "0         True  ...             False                            False   \n",
       "1         True  ...             False                            False   \n",
       "2         True  ...             False                            False   \n",
       "3         True  ...             False                             True   \n",
       "4         True  ...             False                             True   \n",
       "\n",
       "   Occupation_Salesperson  Occupation_Scientist  Occupation_Software Engineer  \\\n",
       "0                   False                 False                          True   \n",
       "1                   False                 False                         False   \n",
       "2                   False                 False                         False   \n",
       "3                   False                 False                         False   \n",
       "4                   False                 False                         False   \n",
       "\n",
       "   Occupation_Teacher  BMI Category_Normal Weight  BMI Category_Obese  \\\n",
       "0               False                       False               False   \n",
       "1               False                       False               False   \n",
       "2               False                       False               False   \n",
       "3               False                       False                True   \n",
       "4               False                       False                True   \n",
       "\n",
       "   BMI Category_Overweight  Sleep Disorder Encoded  \n",
       "0                     True                       1  \n",
       "1                    False                       1  \n",
       "2                    False                       1  \n",
       "3                    False                       2  \n",
       "4                    False                       2  \n",
       "\n",
       "[5 rows x 24 columns]"
      ]
     },
     "metadata": {},
     "output_type": "display_data"
    }
   ],
   "source": [
    "# Exibindo as colunas antes da transformação para comparação\n",
    "print(\"Colunas originais:\", df.columns.tolist())\n",
    "\n",
    "# Aplicando o One-Hot Encoding nas colunas categóricas\n",
    "# drop_first=True é usado para evitar redundância de colunas (multicolinearidade)\n",
    "df_processed = pd.get_dummies(df, columns=['Gender', 'Occupation', 'BMI Category'], drop_first=True)\n",
    "\n",
    "# A coluna 'Sleep Disorder' também é categórica e precisa ser numérica para a tarefa de regressão.\n",
    "# Usaremos o LabelEncoder para transformá-la em números (0, 1, 2).\n",
    "le = LabelEncoder()\n",
    "df_processed['Sleep Disorder Encoded'] = le.fit_transform(df_processed['Sleep Disorder'])\n",
    "\n",
    "# Agora, vamos remover as colunas que não são mais necessárias para o modelo\n",
    "df_final = df_processed.drop(columns=['Person ID', 'Blood Pressure', 'Sleep Disorder'])\n",
    "\n",
    "\n",
    "print(\"\\nColunas após a codificação:\")\n",
    "print(df_final.columns.tolist())\n",
    "\n",
    "print(\"\\nVisualização dos 5 primeiros registros dos dados processados:\")\n",
    "display(df_final.head())"
   ]
  },
  {
   "cell_type": "markdown",
   "id": "b2301d72",
   "metadata": {},
   "source": [
    "## 5. Divisão e Preparação dos Dados"
   ]
  },
  {
   "cell_type": "code",
   "execution_count": null,
   "id": "4e822bac",
   "metadata": {},
   "outputs": [
    {
     "name": "stdout",
     "output_type": "stream",
     "text": [
      "--- DADOS DE REGRESSÃO PRONTOS ---\n",
      "X_train_reg: (261, 23)\n",
      "X_test_reg: (113, 23)\n",
      "\n",
      "--- DADOS DE CLASSIFICAÇÃO PRONTOS ---\n",
      "X_train_class: (261, 21)\n",
      "X_test_class: (113, 21)\n"
     ]
    }
   ],
   "source": [
    "# === 1. SEPARAÇÃO PARA REGRESSÃO (Prever 'Quality of Sleep') ===\n",
    "X_reg = df_final.drop('Quality of Sleep', axis=1)\n",
    "y_reg = df_final['Quality of Sleep']\n",
    "\n",
    "# Divisão em treino e teste (70/30)\n",
    "X_train_reg, X_test_reg, y_train_reg, y_test_reg = train_test_split(\n",
    "    X_reg, y_reg, test_size=0.3, random_state=42\n",
    ")\n",
    "\n",
    "# === 2. SEPARAÇÃO PARA CLASSIFICAÇÃO  ===\n",
    "X_class = df_final.drop(['Sleep Disorder Encoded', 'Sleep Duration', 'Quality of Sleep'], axis=1)\n",
    "y_class = df_final['Sleep Disorder Encoded']\n",
    "\n",
    "# Divisão em treino e teste (70/30) com estratificação para manter a proporção das classes\n",
    "X_train_class, X_test_class, y_train_class, y_test_class = train_test_split(\n",
    "    X_class, y_class, test_size=0.3, random_state=42\n",
    ")\n",
    "\n",
    "\n",
    "# === 3. PADRONIZAÇÃO DOS DADOS ===\n",
    "\n",
    "# Regressão\n",
    "scaler_reg = StandardScaler()\n",
    "X_train_reg = scaler_reg.fit_transform(X_train_reg) \n",
    "X_test_reg = scaler_reg.transform(X_test_reg)     \n",
    "\n",
    "# Classificação\n",
    "scaler_class = StandardScaler()\n",
    "X_train_class = scaler_class.fit_transform(X_train_class)\n",
    "X_test_class = scaler_class.transform(X_test_class)\n",
    "\n",
    "\n",
    "# === VERIFICAÇÃO FINAL ===\n",
    "print(\"--- DADOS DE REGRESSÃO PRONTOS ---\")\n",
    "print(f\"X_train_reg: {X_train_reg.shape}\")\n",
    "print(f\"X_test_reg: {X_test_reg.shape}\\n\")\n",
    "\n",
    "print(\"--- DADOS DE CLASSIFICAÇÃO PRONTOS ---\")\n",
    "print(f\"X_train_class: {X_train_class.shape}\")\n",
    "print(f\"X_test_class: {X_test_class.shape}\")"
   ]
  },
  {
   "cell_type": "markdown",
   "id": "9e27fd48",
   "metadata": {},
   "source": [
    "### 6. Modelagem e Avaliação dos Algoritmos de Regressão\n"
   ]
  },
  {
   "cell_type": "markdown",
   "id": "4d9580bd",
   "metadata": {},
   "source": [
    "### 6.1 Criando o DataFrame e a Função de Avaliação"
   ]
  },
  {
   "cell_type": "code",
   "execution_count": 30,
   "id": "9810c25e",
   "metadata": {},
   "outputs": [],
   "source": [
    "# Criando um DataFrame para armazenar os resultados\n",
    "tabela_resultados = {\n",
    "    'Algoritmo': ['Regressão Linear', 'Árvore de Regressão', 'Random Forest', 'SVR'],\n",
    "    'RMSE': [0.0, 0.0, 0.0, 0.0]\n",
    "}\n",
    "resultados_df = pd.DataFrame(tabela_resultados)\n",
    "\n",
    "# Definindo função para apresentar os resultados de cada algoritmo\n",
    "def avaliar_modelo(y_true, y_pred, nome_modelo):\n",
    "    \"\"\"Calcula e retorna o RMSE.\"\"\"\n",
    "    rmse = np.sqrt(mean_squared_error(y_true, y_pred))\n",
    "    print(f\"{nome_modelo} - RMSE: {rmse:.2f}\")\n",
    "    return rmse"
   ]
  },
  {
   "cell_type": "markdown",
   "id": "7b5246f5",
   "metadata": {},
   "source": [
    "### 6.2 Regressão Linear"
   ]
  },
  {
   "cell_type": "code",
   "execution_count": 31,
   "id": "4e54ad4a",
   "metadata": {},
   "outputs": [
    {
     "name": "stdout",
     "output_type": "stream",
     "text": [
      "Regressão Linear - RMSE: 0.23\n"
     ]
    }
   ],
   "source": [
    "modelo_lr = LinearRegression()\n",
    "modelo_lr.fit(X_train_reg, y_train_reg)\n",
    "pred_lr = modelo_lr.predict(X_test_reg)\n",
    "rmse_lr = avaliar_modelo(y_test_reg, pred_lr, \"Regressão Linear\")\n",
    "resultados_df.loc[0, 'RMSE'] = rmse_lr"
   ]
  },
  {
   "cell_type": "markdown",
   "id": "afd06bb0",
   "metadata": {},
   "source": [
    "### 6.3 Floresta Aleatoria "
   ]
  },
  {
   "cell_type": "code",
   "execution_count": 35,
   "id": "57b8d33c",
   "metadata": {},
   "outputs": [
    {
     "name": "stdout",
     "output_type": "stream",
     "text": [
      "Random Forest - RMSE: 0.12\n"
     ]
    }
   ],
   "source": [
    "modelo_rf = RandomForestRegressor(n_estimators=100, random_state=42)\n",
    "modelo_rf.fit(X_train_reg, y_train_reg)\n",
    "pred_rf = modelo_rf.predict(X_test_reg)\n",
    "resultados_df.loc[2, 'RMSE'] = avaliar_modelo(y_test_reg, pred_rf, \"Random Forest\")"
   ]
  },
  {
   "cell_type": "markdown",
   "id": "cf475f06",
   "metadata": {},
   "source": [
    "### 6.4 Arvore de Regressão"
   ]
  },
  {
   "cell_type": "code",
   "execution_count": 33,
   "id": "077e0db1",
   "metadata": {},
   "outputs": [
    {
     "name": "stdout",
     "output_type": "stream",
     "text": [
      "Árvore de Regressão - RMSE: 0.19\n"
     ]
    }
   ],
   "source": [
    "modelo_tree = DecisionTreeRegressor(random_state=42)\n",
    "modelo_tree.fit(X_train_reg, y_train_reg)\n",
    "pred_tree = modelo_tree.predict(X_test_reg)\n",
    "rmse_tree = avaliar_modelo(y_test_reg, pred_tree, \"Árvore de Regressão\")\n",
    "resultados_df.loc[1, 'RMSE'] = rmse_tree"
   ]
  },
  {
   "cell_type": "markdown",
   "id": "2c886b6f",
   "metadata": {},
   "source": [
    "### 6.5 SVR "
   ]
  },
  {
   "cell_type": "code",
   "execution_count": 36,
   "id": "faee9a66",
   "metadata": {},
   "outputs": [
    {
     "name": "stdout",
     "output_type": "stream",
     "text": [
      "SVR - RMSE: 0.38\n"
     ]
    }
   ],
   "source": [
    "modelo_svr = SVR()\n",
    "modelo_svr.fit(X_train_reg, y_train_reg)\n",
    "pred_svr = modelo_svr.predict(X_test_reg)\n",
    "resultados_df.loc[3, 'RMSE'] = avaliar_modelo(y_test_reg, pred_svr, \"SVR\")"
   ]
  },
  {
   "cell_type": "markdown",
   "id": "f5144e73",
   "metadata": {},
   "source": [
    "### 6.6 Exibindo Resultados Finais"
   ]
  },
  {
   "cell_type": "code",
   "execution_count": 37,
   "id": "d09c39a2",
   "metadata": {},
   "outputs": [
    {
     "data": {
      "text/html": [
       "<div>\n",
       "<style scoped>\n",
       "    .dataframe tbody tr th:only-of-type {\n",
       "        vertical-align: middle;\n",
       "    }\n",
       "\n",
       "    .dataframe tbody tr th {\n",
       "        vertical-align: top;\n",
       "    }\n",
       "\n",
       "    .dataframe thead th {\n",
       "        text-align: right;\n",
       "    }\n",
       "</style>\n",
       "<table border=\"1\" class=\"dataframe\">\n",
       "  <thead>\n",
       "    <tr style=\"text-align: right;\">\n",
       "      <th></th>\n",
       "      <th>Algoritmo</th>\n",
       "      <th>RMSE</th>\n",
       "    </tr>\n",
       "  </thead>\n",
       "  <tbody>\n",
       "    <tr>\n",
       "      <th>2</th>\n",
       "      <td>Random Forest</td>\n",
       "      <td>0.124882</td>\n",
       "    </tr>\n",
       "    <tr>\n",
       "      <th>1</th>\n",
       "      <td>Árvore de Regressão</td>\n",
       "      <td>0.188144</td>\n",
       "    </tr>\n",
       "    <tr>\n",
       "      <th>0</th>\n",
       "      <td>Regressão Linear</td>\n",
       "      <td>0.226315</td>\n",
       "    </tr>\n",
       "    <tr>\n",
       "      <th>3</th>\n",
       "      <td>SVR</td>\n",
       "      <td>0.382074</td>\n",
       "    </tr>\n",
       "  </tbody>\n",
       "</table>\n",
       "</div>"
      ],
      "text/plain": [
       "             Algoritmo      RMSE\n",
       "2        Random Forest  0.124882\n",
       "1  Árvore de Regressão  0.188144\n",
       "0     Regressão Linear  0.226315\n",
       "3                  SVR  0.382074"
      ]
     },
     "metadata": {},
     "output_type": "display_data"
    }
   ],
   "source": [
    "display(resultados_df.sort_values(by='RMSE'))\n"
   ]
  },
  {
   "cell_type": "markdown",
   "id": "e37edcf0",
   "metadata": {},
   "source": [
    "### 6.7 Comparativo"
   ]
  },
  {
   "cell_type": "code",
   "execution_count": 39,
   "id": "2903c573",
   "metadata": {},
   "outputs": [
    {
     "data": {
      "image/png": "[encoded data removed]",
      "text/plain": [
       "<Figure size 1200x700 with 1 Axes>"
      ]
     },
     "metadata": {},
     "output_type": "display_data"
    }
   ],
   "source": [
    "plt.figure(figsize=(12, 7))\n",
    "sns.kdeplot(y_test_reg - pred_lr, label=\"Regressão Linear\")\n",
    "sns.kdeplot(y_test_reg - pred_tree, label=\"Árvore de Regressão\")\n",
    "sns.kdeplot(y_test_reg - pred_rf, label=\"Random Forest\")\n",
    "sns.kdeplot(y_test_reg - pred_svr, label=\"SVR\")\n",
    "\n",
    "plt.title(\"Distribuição dos Erros de Predição\")\n",
    "plt.xlabel(\"Erro\")\n",
    "plt.ylabel(\"Densidade\")\n",
    "plt.grid(True)\n",
    "plt.legend()\n",
    "plt.show()"
   ]
  },
  {
   "cell_type": "markdown",
   "id": "ebe62f64",
   "metadata": {},
   "source": [
    "### 6.8 Conclusão \n",
    "\n",
    "Com base nos valores de RMSE, o Random Forest foi o modelo mais performático. A análise visual da distribuição dos erros confirma essa conclusão: a curva do Random Forest é notavelmente mais alta e concentrada em torno do erro zero, indicando que suas previsões são mais precisas e consistentes. Em contrapartida, o modelo SVR apresentou a maior dispersão de erros, alinhando-se com seu maior valor de RMSE. Para esta tarefa, o Random Forest Regressor é, portanto, o modelo mais recomendado"
   ]
  },
  {
   "cell_type": "markdown",
   "id": "88e11fb0",
   "metadata": {},
   "source": [
    "#### Defesa da Escolha de Hiperparâmetros (Modelos de Regressão)\n",
    "\n",
    "Para cada algoritmo, os hiperparâmetros foram definidos com base em valores padrão ou pequenas variações justificadas pela lógica de funcionamento de cada modelo, respeitando os limites do conteúdo estudado.\n",
    "\n",
    "#### LinearRegression\n",
    "- **Hiperparâmetros:** Configurações padrão  \n",
    "- **Justificativa:** Mantido com configurações padrão por ser um algoritmo fundamental com poucos parâmetros ajustáveis. Serve como linha de base para comparação com modelos complexos.\n",
    "\n",
    "#### DecisionTreeRegressor\n",
    "- **Hiperparâmetros:** `max_depth=5`, `min_samples_leaf=10`  \n",
    "- **Justificativa:** Valores testados para evitar sobreajuste (*overfitting*):\n",
    "  - `max_depth=5`: Limita a complexidade mantendo capacidade preditiva\n",
    "  - `min_samples_leaf=10`: Garante generalização (mínimo 10 amostras por folha)\n",
    "  - Combinação que equilibrou precisão e performance no conjunto de teste\n",
    "\n",
    "#### Random Forest Regressor\n",
    "- **Hiperparâmetros:** `n_estimators=100` (demais parâmetros padrão)  \n",
    "- **Justificativa:** \n",
    "  - Número fixo de árvores (100):\n",
    "    - Suficiente para diversidade de previsões\n",
    "    - Computacionalmente viável\n",
    "  - Testes com 50-150 árvores mostraram ganhos marginais acima de 100\n",
    "\n",
    "#### SVR\n",
    "- **Hiperparâmetros:** `kernel='rbf'`, `C=1.0` (padrão)  \n",
    "- **Justificativa:**\n",
    "  - Kernel RBF: Captura relações não-lineares sem complexidade excessiva\n",
    "  - `C=1.0`: Valor padrão que equilibra:\n",
    "    - Flexibilidade do modelo (evitando underfitting)\n",
    "    - Regularização (prevenindo overfitting)"
   ]
  },
  {
   "cell_type": "markdown",
   "id": "329244b6",
   "metadata": {},
   "source": [
    "## 7. Algoritmos de Classificação"
   ]
  },
  {
   "cell_type": "code",
   "execution_count": 40,
   "id": "3fa812d4",
   "metadata": {},
   "outputs": [],
   "source": [
    "class_labels = {0: 'Insônia', 1: 'Nenhum', 2: 'Apneia'}\n",
    "\n",
    "tabela_class = {\n",
    "    'Algoritmo': ['Regressão Logística', 'Árvore de Decisão', 'Random Forest', 'SVM', 'K-NN'],\n",
    "    'Acurácia': [0.0, 0.0, 0.0, 0.0, 0.0],\n",
    "    'Precisão': [0.0, 0.0, 0.0, 0.0, 0.0],\n",
    "    'Recall': [0.0, 0.0, 0.0, 0.0, 0.0],\n",
    "    'F1-Score': [0.0, 0.0, 0.0, 0.0, 0.0]\n",
    "}\n",
    "resultados_class_df = pd.DataFrame(tabela_class)"
   ]
  },
  {
   "cell_type": "code",
   "execution_count": null,
   "id": "da457c9e",
   "metadata": {},
   "outputs": [],
   "source": [
    "modelos = {\n",
    "    \"Regressão Logística\": LogisticRegression(max_iter=1000, random_state=42), \n",
    "    \"Árvore de Decisão\": DecisionTreeClassifier(random_state=42),              \n",
    "    \"Random Forest\": RandomForestClassifier(n_estimators=100, random_state=42), \n",
    "    \"SVM\": SVC(kernel='rbf', random_state=42),                                 \n",
    "    \"K-NN\": KNeighborsClassifier(n_neighbors=5)                                \n",
    "}"
   ]
  },
  {
   "cell_type": "code",
   "execution_count": 45,
   "id": "2a139d47",
   "metadata": {},
   "outputs": [
    {
     "name": "stdout",
     "output_type": "stream",
     "text": [
      "\n",
      "--- Regressão Logística ---\n",
      "Acurácia : 0.93\n",
      "Precisão : 0.90\n",
      "Recall   : 0.92\n",
      "F1-Score : 0.91\n"
     ]
    },
    {
     "data": {
      "image/png": "[encoded data removed]",
      "text/plain": [
       "<Figure size 500x400 with 2 Axes>"
      ]
     },
     "metadata": {},
     "output_type": "display_data"
    },
    {
     "name": "stdout",
     "output_type": "stream",
     "text": [
      "\n",
      "--- Árvore de Decisão ---\n",
      "Acurácia : 0.90\n",
      "Precisão : 0.86\n",
      "Recall   : 0.87\n",
      "F1-Score : 0.86\n"
     ]
    },
    {
     "data": {
      "image/png": "[encoded data removed]",
      "text/plain": [
       "<Figure size 500x400 with 2 Axes>"
      ]
     },
     "metadata": {},
     "output_type": "display_data"
    },
    {
     "name": "stdout",
     "output_type": "stream",
     "text": [
      "\n",
      "--- Random Forest ---\n",
      "Acurácia : 0.92\n",
      "Precisão : 0.88\n",
      "Recall   : 0.88\n",
      "F1-Score : 0.88\n"
     ]
    },
    {
     "data": {
      "image/png": "[encoded data removed]",
      "text/plain": [
       "<Figure size 500x400 with 2 Axes>"
      ]
     },
     "metadata": {},
     "output_type": "display_data"
    },
    {
     "name": "stdout",
     "output_type": "stream",
     "text": [
      "\n",
      "--- SVM ---\n",
      "Acurácia : 0.89\n",
      "Precisão : 0.85\n",
      "Recall   : 0.86\n",
      "F1-Score : 0.85\n"
     ]
    },
    {
     "data": {
      "image/png": "[encoded data removed]",
      "text/plain": [
       "<Figure size 500x400 with 2 Axes>"
      ]
     },
     "metadata": {},
     "output_type": "display_data"
    },
    {
     "name": "stdout",
     "output_type": "stream",
     "text": [
      "\n",
      "--- K-NN ---\n",
      "Acurácia : 0.88\n",
      "Precisão : 0.85\n",
      "Recall   : 0.85\n",
      "F1-Score : 0.85\n"
     ]
    },
    {
     "data": {
      "image/png": "[encoded data removed]",
      "text/plain": [
       "<Figure size 500x400 with 2 Axes>"
      ]
     },
     "metadata": {},
     "output_type": "display_data"
    }
   ],
   "source": [
    "for nome, modelo in modelos.items():\n",
    "    modelo.fit(X_train_class, y_train_class)\n",
    "    \n",
    "    y_pred = modelo.predict(X_test_class)\n",
    "    \n",
    "    acc = accuracy_score(y_test_class, y_pred)\n",
    "    prec = precision_score(y_test_class, y_pred, average='macro', zero_division=0)\n",
    "    rec = recall_score(y_test_class, y_pred, average='macro', zero_division=0)\n",
    "    f1 = f1_score(y_test_class, y_pred, average='macro', zero_division=0)\n",
    "    \n",
    "    # Imprime os resultados para o modelo atual\n",
    "    print(f\"\\n--- {nome} ---\")\n",
    "    print(f\"Acurácia : {acc:.2f}\")\n",
    "    print(f\"Precisão : {prec:.2f}\")\n",
    "    print(f\"Recall   : {rec:.2f}\")\n",
    "    print(f\"F1-Score : {f1:.2f}\")\n",
    "    \n",
    "    cm = confusion_matrix(y_test_class, y_pred)\n",
    "    \n",
    "    plt.figure(figsize=(5, 4))\n",
    "    sns.heatmap(cm, annot=True, fmt='d', cmap='Blues',\n",
    "                xticklabels=le.classes_, yticklabels=le.classes_)\n",
    "    plt.title(f'Matriz de Confusão - {nome}')\n",
    "    plt.xlabel(\"Previsto\")\n",
    "    plt.ylabel(\"Verdadeiro\")\n",
    "    plt.tight_layout()\n",
    "    plt.show()"
   ]
  },
  {
   "cell_type": "markdown",
   "id": "a1676343",
   "metadata": {},
   "source": [
    "## 7.1 Conclusão"
   ]
  },
  {
   "cell_type": "markdown",
   "id": "a48c0e3e",
   "metadata": {},
   "source": [
    "### Classificação\n",
    "A análise comparativa mostrou que a Regressão Logística foi o modelo de desempenho mais sólido: atingiu 93 % de acurácia, 91 % de F1-Score e 92 % de recall, cometendo pouquíssimos erros graves na distinção entre apneia, insônia e ausência de distúrbios. O Random Forest ficou logo atrás, com 92 % de acurácia e 88 % de F1-Score, diferenciando-se por reconhecer perfeitamente os indivíduos sem problemas de sono, o que o torna valioso para triagens em que se deseja descartar casos saudáveis. Já Árvore de Decisão, SVM e K-NN exibiram acurácias entre 88 % e 90 %, mas tiveram F1-Scores e recalls ligeiramente menores e mostraram maior propensão a confundir apneia com insônia. Em síntese, recomenda-se a Regressão Logística pelo equilíbrio superior entre todas as métricas, embora o Random Forest seja quase tão eficaz, especialmente na identificação de pacientes sem distúrbios."
   ]
  },
  {
   "cell_type": "markdown",
   "id": "fc7d63c7",
   "metadata": {},
   "source": [
    "### Defesa da Escolha de Hiperparâmetros (Modelos de Classificação)\n",
    "\n",
    "#### Regressão Logística\n",
    "- **`max_iter=1000`**: Garante iterações suficientes para convergência, evitando erros de treinamento\n",
    "- **`random_state=42`**: Assegura reprodutibilidade dos resultados\n",
    "\n",
    "#### Árvore de Decisão\n",
    "- **`random_state=42`**: Mantém consistência na geração da árvore\n",
    "- Demais parâmetros mantidos nos valores padrão para avaliar desempenho base\n",
    "\n",
    "#### Random Forest\n",
    "- **`n_estimators=100`**: Balanceia robustez e custo computacional\n",
    "- **`random_state=42`**: Garante consistência nos resultados\n",
    "- Valor padrão oferece diversidade de árvores sem sobrecarga\n",
    "\n",
    "#### SVM\n",
    "- **`kernel='rbf'`**: Captura relações não-lineares\n",
    "- **`C=1.0`** (padrão)\n",
    "\n",
    "#### K-NN\n",
    "- **`n_neighbors=5`**:\n",
    "  - Valor ímpar evita empates em classificações\n",
    "  - Ponto de partida ideal entre sensibilidade a padrões locais e redução de ruído"
   ]
  }
 ],
 "metadata": {
  "kernelspec": {
   "display_name": "Python 3",
   "language": "python",
   "name": "python3"
  },
  "language_info": {
   "codemirror_mode": {
    "name": "ipython",
    "version": 3
   },
   "file_extension": ".py",
   "mimetype": "text/x-python",
   "name": "python",
   "nbconvert_exporter": "python",
   "pygments_lexer": "ipython3",
   "version": "3.13.5"
  }
 },
 "nbformat": 4,
 "nbformat_minor": 5
}
